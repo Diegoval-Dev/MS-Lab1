{
 "cells": [
  {
   "cell_type": "markdown",
   "id": "ec434b9d",
   "metadata": {},
   "source": [
    "a) Formulación del problema de programación lineal"
   ]
  },
  {
   "cell_type": "markdown",
   "id": "69e83ada",
   "metadata": {},
   "source": [
    "    Variables de decisión:\n",
    "    x1 = número de unidades sencillas\n",
    "    x2 = número de unidades dobles  \n",
    "    x3 = número de unidades triples\n",
    "    x4 = número de unidades cuádruples\n",
    "    \n",
    "    Función objetivo: Maximizar recaudación de impuestos\n",
    "    Max Z = 1000*x1 + 1900*x2 + 2700*x3 + 3400*x4\n",
    "    \n",
    "    Restricciones:\n",
    "    1. Área disponible: 0.18*x1 + 0.28*x2 + 0.4*x3 + 0.5*x4 <= 63.75 acres\n",
    "       (300 casas * 0.25 acres = 75 acres, menos 15% para calles = 63.75 acres)\n",
    "    \n",
    "    2. Presupuesto: 50000*x1 + 70000*x2 + 130000*x3 + 160000*x4 <= 15000000\n",
    "    \n",
    "    3. Unidades triples y cuádruples >= 25% del total:\n",
    "       x3 + x4 >= 0.25*(x1 + x2 + x3 + x4)\n",
    "    \n",
    "    4. Unidades sencillas >= 20% del total:\n",
    "       x1 >= 0.20*(x1 + x2 + x3 + x4)\n",
    "    \n",
    "    5. Unidades dobles >= 10% del total:\n",
    "       x2 >= 0.10*(x1 + x2 + x3 + x4)\n",
    "    \n",
    "    6. No negatividad: x1, x2, x3, x4 >= 0"
   ]
  },
  {
   "cell_type": "markdown",
   "id": "38c6459c",
   "metadata": {},
   "source": [
    "b) Código con variables continuas en Julia (JuMP)"
   ]
  },
  {
   "cell_type": "code",
   "execution_count": 3,
   "id": "4c1e3158",
   "metadata": {},
   "outputs": [],
   "source": [
    "using JuMP, GLPK"
   ]
  },
  {
   "cell_type": "code",
   "execution_count": 5,
   "id": "07104277",
   "metadata": {},
   "outputs": [
    {
     "data": {
      "text/latex": [
       "$$ -x1 + 9 x2 - x3 - x4 \\geq 0 $$"
      ],
      "text/plain": [
       "-x1 + 9 x2 - x3 - x4 >= 0"
      ]
     },
     "execution_count": 5,
     "metadata": {},
     "output_type": "execute_result"
    }
   ],
   "source": [
    "model = Model(GLPK.Optimizer)\n",
    "\n",
    "@variable(model, x1 >= 0)  # Unifamiliar\n",
    "@variable(model, x2 >= 0)  # Doble\n",
    "@variable(model, x3 >= 0)  # Triple\n",
    "@variable(model, x4 >= 0)  # Cuádruple\n",
    "\n",
    "# Función objetivo: maximizar ingresos fiscales\n",
    "@objective(model, Max, 1000x1 + 1900x2 + 2700x3 + 3400x4)\n",
    "\n",
    "# Restricción de área disponible\n",
    "@constraint(model, 0.18x1 + 0.28x2 + 0.4x3 + 0.5x4 <= 63.75)\n",
    "\n",
    "# Restricción de presupuesto\n",
    "@constraint(model, 50000x1 + 70000x2 + 130000x3 + 160000x4 <= 15_000_000)\n",
    "\n",
    "# Proporción de unidades triples y cuádruples >= 25%\n",
    "@constraint(model, 3(x3 + x4) - (x1 + x2 + x3 + x4) >= 0)\n",
    "\n",
    "# Proporción de unidades sencillas >= 20%\n",
    "@constraint(model, 4x1 - (x1 + x2 + x3 + x4) >= 0)\n",
    "\n",
    "# Proporción de unidades dobles >= 10%\n",
    "@constraint(model, 10x2 - (x1 + x2 + x3 + x4) >= 0)"
   ]
  },
  {
   "cell_type": "code",
   "execution_count": 6,
   "id": "a7f89170",
   "metadata": {},
   "outputs": [],
   "source": [
    "\n",
    "optimize!(model)"
   ]
  },
  {
   "cell_type": "code",
   "execution_count": 7,
   "id": "df9000bd",
   "metadata": {},
   "outputs": [
    {
     "data": {
      "text/plain": [
       "A JuMP Model\n",
       "├ solver: GLPK\n",
       "├ objective_sense: MAX_SENSE\n",
       "│ └ objective_function_type: AffExpr\n",
       "├ num_variables: 4\n",
       "├ num_constraints: 9\n",
       "│ ├ AffExpr in MOI.GreaterThan{Float64}: 3\n",
       "│ ├ AffExpr in MOI.LessThan{Float64}: 2\n",
       "│ └ VariableRef in MOI.GreaterThan{Float64}: 4\n",
       "└ Names registered in the model\n",
       "  └ :x1, :x2, :x3, :x4"
      ]
     },
     "execution_count": 7,
     "metadata": {},
     "output_type": "execute_result"
    }
   ],
   "source": [
    "model"
   ]
  },
  {
   "cell_type": "code",
   "execution_count": 8,
   "id": "9bff96c8",
   "metadata": {},
   "outputs": [
    {
     "name": "stdout",
     "output_type": "stream",
     "text": [
      "Estado: OPTIMAL\n",
      "Ingresos fiscales máximos: $343421.0526315791\n",
      "Unidades sencillas: 39.47368421052633\n",
      "Unidades dobles: 65.7894736842105\n",
      "Unidades triples: 0.0\n",
      "Unidades cuádruples: 52.63157894736848\n"
     ]
    }
   ],
   "source": [
    "println(\"Estado: \", termination_status(model))\n",
    "println(\"Ingresos fiscales máximos: \\$\", objective_value(model))\n",
    "println(\"Unidades sencillas: \", value(x1))\n",
    "println(\"Unidades dobles: \", value(x2))\n",
    "println(\"Unidades triples: \", value(x3))\n",
    "println(\"Unidades cuádruples: \", value(x4))"
   ]
  },
  {
   "cell_type": "markdown",
   "id": "d474ac3f",
   "metadata": {},
   "source": [
    "c) Código con variables enteras (optimización entera)"
   ]
  },
  {
   "cell_type": "code",
   "execution_count": 9,
   "id": "732104d2",
   "metadata": {},
   "outputs": [],
   "source": [
    "using JuMP, GLPK"
   ]
  },
  {
   "cell_type": "code",
   "execution_count": 10,
   "id": "c339c508",
   "metadata": {},
   "outputs": [
    {
     "name": "stdout",
     "output_type": "stream",
     "text": [
      "Estado: OPTIMAL\n",
      "Ingresos fiscales máximos (enteros): $343000.0\n",
      "Unidades sencillas: 40.0\n",
      "Unidades dobles: 65.0\n",
      "Unidades triples: 1.0\n",
      "Unidades cuádruples: 52.0\n"
     ]
    }
   ],
   "source": [
    "model = Model(GLPK.Optimizer)\n",
    "\n",
    "@variable(model, x1 >= 0, Int)\n",
    "@variable(model, x2 >= 0, Int)\n",
    "@variable(model, x3 >= 0, Int)\n",
    "@variable(model, x4 >= 0, Int)\n",
    "\n",
    "@objective(model, Max, 1000x1 + 1900x2 + 2700x3 + 3400x4)\n",
    "\n",
    "@constraint(model, 0.18x1 + 0.28x2 + 0.4x3 + 0.5x4 <= 63.75)\n",
    "@constraint(model, 50000x1 + 70000x2 + 130000x3 + 160000x4 <= 15_000_000)\n",
    "@constraint(model, 3(x3 + x4) - (x1 + x2 + x3 + x4) >= 0)\n",
    "@constraint(model, 4x1 - (x1 + x2 + x3 + x4) >= 0)\n",
    "@constraint(model, 10x2 - (x1 + x2 + x3 + x4) >= 0)\n",
    "\n",
    "optimize!(model)\n",
    "\n",
    "println(\"Estado: \", termination_status(model))\n",
    "println(\"Ingresos fiscales máximos (enteros): \\$\", objective_value(model))\n",
    "println(\"Unidades sencillas: \", value(x1))\n",
    "println(\"Unidades dobles: \", value(x2))\n",
    "println(\"Unidades triples: \", value(x3))\n",
    "println(\"Unidades cuádruples: \", value(x4))"
   ]
  }
 ],
 "metadata": {
  "kernelspec": {
   "display_name": "Julia 1.11.6",
   "language": "julia",
   "name": "julia-1.11"
  },
  "language_info": {
   "file_extension": ".jl",
   "mimetype": "application/julia",
   "name": "julia",
   "version": "1.11.6"
  }
 },
 "nbformat": 4,
 "nbformat_minor": 5
}
